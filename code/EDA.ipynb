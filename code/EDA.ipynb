{
 "cells": [
  {
   "cell_type": "markdown",
   "metadata": {},
   "source": [
    "# Problem\n",
    "    - Binary Classification problem on current status"
   ]
  },
  {
   "cell_type": "markdown",
   "metadata": {},
   "source": [
    "## todo\n",
    "\n",
    "    - find relationship between trn/tst to split trn in a specific way\n",
    "    - use AUC, logloss to fit the data, use linear/nonlinear/tree/ann\n",
    "    - analyze important features and visualize them (give example of best and worst person)\n",
    "    - gather visual info regarding our understanding of data\n",
    "    - write up report"
   ]
  },
  {
   "cell_type": "code",
   "execution_count": 1,
   "metadata": {
    "collapsed": true
   },
   "outputs": [],
   "source": [
    "import pandas as pd\n",
    "import numpy as np\n",
    "\n",
    "import matplotlib.pyplot as plt\n",
    "%matplotlib inline\n",
    "import seaborn as sns"
   ]
  },
  {
   "cell_type": "code",
   "execution_count": 2,
   "metadata": {
    "collapsed": true
   },
   "outputs": [],
   "source": [
    "data = pd.read_csv('../input/train.csv')\n",
    "tst = pd.read_csv('../input/test.csv')"
   ]
  },
  {
   "cell_type": "code",
   "execution_count": 3,
   "metadata": {
    "collapsed": false
   },
   "outputs": [
    {
     "name": "stdout",
     "output_type": "stream",
     "text": [
      "(150000, 33) (50000, 33)\n"
     ]
    }
   ],
   "source": [
    "print(data.shape, tst.shape)"
   ]
  },
  {
   "cell_type": "code",
   "execution_count": 4,
   "metadata": {
    "collapsed": false
   },
   "outputs": [
    {
     "data": {
      "text/html": [
       "<div>\n",
       "<table border=\"1\" class=\"dataframe\">\n",
       "  <thead>\n",
       "    <tr style=\"text-align: right;\">\n",
       "      <th></th>\n",
       "      <th>id</th>\n",
       "      <th>member_id</th>\n",
       "      <th>loan_amnt</th>\n",
       "      <th>funded_amnt</th>\n",
       "      <th>funded_amnt_inv</th>\n",
       "      <th>term</th>\n",
       "      <th>int_rate</th>\n",
       "      <th>installment</th>\n",
       "      <th>grade</th>\n",
       "      <th>sub_grade</th>\n",
       "      <th>...</th>\n",
       "      <th>dti</th>\n",
       "      <th>delinq_2yrs</th>\n",
       "      <th>earliest_cr_line</th>\n",
       "      <th>inq_last_6mths</th>\n",
       "      <th>open_acc</th>\n",
       "      <th>pub_rec</th>\n",
       "      <th>revol_util</th>\n",
       "      <th>total_acc</th>\n",
       "      <th>initial_list_status</th>\n",
       "      <th>application_type</th>\n",
       "    </tr>\n",
       "  </thead>\n",
       "  <tbody>\n",
       "    <tr>\n",
       "      <th>0</th>\n",
       "      <td>8557094</td>\n",
       "      <td>10309140</td>\n",
       "      <td>25000</td>\n",
       "      <td>25000</td>\n",
       "      <td>25000.0</td>\n",
       "      <td>36 months</td>\n",
       "      <td>14.30%</td>\n",
       "      <td>858.07</td>\n",
       "      <td>C</td>\n",
       "      <td>C1</td>\n",
       "      <td>...</td>\n",
       "      <td>18.86</td>\n",
       "      <td>0</td>\n",
       "      <td>May-1998</td>\n",
       "      <td>0</td>\n",
       "      <td>17</td>\n",
       "      <td>1</td>\n",
       "      <td>82.6%</td>\n",
       "      <td>42</td>\n",
       "      <td>f</td>\n",
       "      <td>INDIVIDUAL</td>\n",
       "    </tr>\n",
       "    <tr>\n",
       "      <th>1</th>\n",
       "      <td>37632198</td>\n",
       "      <td>40395274</td>\n",
       "      <td>14000</td>\n",
       "      <td>14000</td>\n",
       "      <td>14000.0</td>\n",
       "      <td>60 months</td>\n",
       "      <td>18.54%</td>\n",
       "      <td>359.49</td>\n",
       "      <td>E</td>\n",
       "      <td>E1</td>\n",
       "      <td>...</td>\n",
       "      <td>26.30</td>\n",
       "      <td>0</td>\n",
       "      <td>Dec-1994</td>\n",
       "      <td>0</td>\n",
       "      <td>13</td>\n",
       "      <td>0</td>\n",
       "      <td>70.3%</td>\n",
       "      <td>26</td>\n",
       "      <td>w</td>\n",
       "      <td>INDIVIDUAL</td>\n",
       "    </tr>\n",
       "    <tr>\n",
       "      <th>2</th>\n",
       "      <td>71757622</td>\n",
       "      <td>76943409</td>\n",
       "      <td>5000</td>\n",
       "      <td>5000</td>\n",
       "      <td>5000.0</td>\n",
       "      <td>36 months</td>\n",
       "      <td>13.67%</td>\n",
       "      <td>169.81</td>\n",
       "      <td>C</td>\n",
       "      <td>C3</td>\n",
       "      <td>...</td>\n",
       "      <td>24.12</td>\n",
       "      <td>0</td>\n",
       "      <td>Nov-2005</td>\n",
       "      <td>0</td>\n",
       "      <td>17</td>\n",
       "      <td>0</td>\n",
       "      <td>61.6%</td>\n",
       "      <td>23</td>\n",
       "      <td>w</td>\n",
       "      <td>INDIVIDUAL</td>\n",
       "    </tr>\n",
       "    <tr>\n",
       "      <th>3</th>\n",
       "      <td>39682046</td>\n",
       "      <td>42505863</td>\n",
       "      <td>23000</td>\n",
       "      <td>23000</td>\n",
       "      <td>23000.0</td>\n",
       "      <td>60 months</td>\n",
       "      <td>14.31%</td>\n",
       "      <td>538.78</td>\n",
       "      <td>C</td>\n",
       "      <td>C4</td>\n",
       "      <td>...</td>\n",
       "      <td>22.04</td>\n",
       "      <td>0</td>\n",
       "      <td>Nov-2003</td>\n",
       "      <td>1</td>\n",
       "      <td>9</td>\n",
       "      <td>0</td>\n",
       "      <td>75.9%</td>\n",
       "      <td>16</td>\n",
       "      <td>w</td>\n",
       "      <td>INDIVIDUAL</td>\n",
       "    </tr>\n",
       "    <tr>\n",
       "      <th>4</th>\n",
       "      <td>57763681</td>\n",
       "      <td>61516442</td>\n",
       "      <td>7000</td>\n",
       "      <td>7000</td>\n",
       "      <td>7000.0</td>\n",
       "      <td>36 months</td>\n",
       "      <td>14.65%</td>\n",
       "      <td>241.47</td>\n",
       "      <td>C</td>\n",
       "      <td>C5</td>\n",
       "      <td>...</td>\n",
       "      <td>23.46</td>\n",
       "      <td>0</td>\n",
       "      <td>Dec-2009</td>\n",
       "      <td>1</td>\n",
       "      <td>8</td>\n",
       "      <td>0</td>\n",
       "      <td>31.9%</td>\n",
       "      <td>15</td>\n",
       "      <td>f</td>\n",
       "      <td>INDIVIDUAL</td>\n",
       "    </tr>\n",
       "  </tbody>\n",
       "</table>\n",
       "<p>5 rows × 33 columns</p>\n",
       "</div>"
      ],
      "text/plain": [
       "         id  member_id  loan_amnt  funded_amnt  funded_amnt_inv       term  \\\n",
       "0   8557094   10309140      25000        25000          25000.0  36 months   \n",
       "1  37632198   40395274      14000        14000          14000.0  60 months   \n",
       "2  71757622   76943409       5000         5000           5000.0  36 months   \n",
       "3  39682046   42505863      23000        23000          23000.0  60 months   \n",
       "4  57763681   61516442       7000         7000           7000.0  36 months   \n",
       "\n",
       "  int_rate  installment grade sub_grade       ...           dti delinq_2yrs  \\\n",
       "0   14.30%       858.07     C        C1       ...         18.86           0   \n",
       "1   18.54%       359.49     E        E1       ...         26.30           0   \n",
       "2   13.67%       169.81     C        C3       ...         24.12           0   \n",
       "3   14.31%       538.78     C        C4       ...         22.04           0   \n",
       "4   14.65%       241.47     C        C5       ...         23.46           0   \n",
       "\n",
       "  earliest_cr_line  inq_last_6mths open_acc pub_rec revol_util total_acc  \\\n",
       "0         May-1998               0       17       1      82.6%        42   \n",
       "1         Dec-1994               0       13       0      70.3%        26   \n",
       "2         Nov-2005               0       17       0      61.6%        23   \n",
       "3         Nov-2003               1        9       0      75.9%        16   \n",
       "4         Dec-2009               1        8       0      31.9%        15   \n",
       "\n",
       "  initial_list_status application_type  \n",
       "0                   f       INDIVIDUAL  \n",
       "1                   w       INDIVIDUAL  \n",
       "2                   w       INDIVIDUAL  \n",
       "3                   w       INDIVIDUAL  \n",
       "4                   f       INDIVIDUAL  \n",
       "\n",
       "[5 rows x 33 columns]"
      ]
     },
     "execution_count": 4,
     "metadata": {},
     "output_type": "execute_result"
    }
   ],
   "source": [
    "data.head()"
   ]
  },
  {
   "cell_type": "code",
   "execution_count": 5,
   "metadata": {
    "collapsed": false,
    "scrolled": true
   },
   "outputs": [
    {
     "name": "stdout",
     "output_type": "stream",
     "text": [
      "# col id | nuniq 150000 | uniq [ 8557094 37632198 71757622 ..., 90325340 63426033 12775605]\n",
      "# col member_id | nuniq 150000 | uniq [10309140 40395274 76943409 ..., 96775103 67768786 14797776]\n",
      "# col loan_amnt | nuniq 1384 | uniq [25000 14000  5000 ..., 36775 32700 35500]\n",
      "# col funded_amnt | nuniq 1384 | uniq [25000 14000  5000 ..., 36775 32700 35500]\n",
      "# col funded_amnt_inv | nuniq 2312 | uniq [ 25000.          14000.           5000.         ...,  24461.93709614\n",
      "   7356.81627359  34812.98452246]\n",
      "# col term | nuniq 2 | uniq ['36 months' '60 months']\n",
      "# col int_rate | nuniq 489 | uniq ['14.30%' '18.54%' '13.67%' '14.31%' '14.65%' '11.14%' '8.39%' '7.59%'\n",
      " '6.24%' '12.69%' '13.35%' '7.62%' '5.93%' '7.89%' '7.39%' '11.99%' '6.03%'\n",
      " '9.71%' '9.99%' '6.68%' '11.55%' '6.92%' '15.99%' '24.99%' '18.25%'\n",
      " '14.99%' '13.49%' '14.49%' '23.99%' '16.55%' '13.98%' '6.99%' '14.46%'\n",
      " '12.99%' '5.32%' '13.44%' '10.16%' '7.12%' '15.23%' '7.91%' '16.29%'\n",
      " '11.48%' '19.99%' '14.09%' '10.99%' '15.61%' '8.18%' '15.70%' '19.52%'\n",
      " '12.12%' '12.39%' '7.26%' '8.67%' '10.74%' '16.99%' '10.78%' '12.05%'\n",
      " '22.99%' '6.39%' '11.67%' '7.90%' '10.49%' '8.90%' '11.53%' '17.77%'\n",
      " '9.16%' '8.19%' '13.99%' '9.49%' '14.47%' '17.56%' '13.11%' '17.76%'\n",
      " '15.59%' '25.65%' '9.17%' '12.49%' '18.55%' '20.49%' '11.49%' '9.67%'\n",
      " '13.66%' '9.75%' '11.44%' '13.53%' '17.57%' '24.49%' '19.48%' '12.29%'\n",
      " '21.49%' '16.59%' '11.47%' '20.99%' '15.31%' '12.79%' '21.97%' '7.49%'\n",
      " '17.43%' '10.65%' '6.89%' '24.50%' '13.65%' '15.27%' '15.80%' '26.57%'\n",
      " '13.33%' '13.57%' '8.38%' '11.71%' '23.13%' '17.86%' '10.64%' '24.24%'\n",
      " '8.49%' '21.28%' '10.75%' '18.99%' '7.88%' '14.48%' '18.20%' '27.31%'\n",
      " '8.59%' '12.85%' '22.15%' '21.98%' '23.28%' '6.49%' '17.27%' '14.64%'\n",
      " '25.83%' '18.84%' '10.15%' '11.22%' '7.99%' '12.88%' '14.33%' '15.88%'\n",
      " '21.18%' '19.24%' '15.22%' '21.99%' '9.80%' '13.18%' '24.08%' '18.24%'\n",
      " '14.27%' '12.42%' '26.06%' '16.49%' '22.39%' '6.62%' '16.24%' '16.78%'\n",
      " '24.70%' '18.75%' '19.72%' '12.35%' '22.47%' '28.18%' '6.91%' '12.68%'\n",
      " '18.07%' '20.20%' '16.20%' '18.49%' '15.10%' '15.05%' '18.64%' '9.76%'\n",
      " '25.69%' '20.31%' '12.59%' '8.99%' '25.57%' '15.77%' '17.14%' '19.29%'\n",
      " '25.09%' '18.92%' '21.67%' '23.43%' '22.90%' '17.10%' '7.69%' '13.92%'\n",
      " '11.12%' '11.86%' '23.40%' '18.85%' '20.75%' '25.80%' '25.29%' '29.96%'\n",
      " '16.45%' '26.49%' '13.68%' '23.76%' '23.83%' '13.05%' '9.25%' '6.97%'\n",
      " '17.99%' '16.89%' '15.62%' '27.79%' '14.26%' '11.36%' '22.95%' '24.11%'\n",
      " '28.67%' '21.60%' '14.98%' '12.98%' '14.16%' '28.88%' '21.00%' '25.89%'\n",
      " '19.47%' '5.42%' '25.28%' '22.40%' '14.85%' '25.99%' '19.22%' '19.19%'\n",
      " '22.45%' '6.00%' '27.34%' '19.20%' '9.91%' '8.94%' '19.05%' '7.14%'\n",
      " '19.97%' '12.21%' '19.53%' '26.77%' '26.99%' '5.79%' '14.72%' '21.15%'\n",
      " '27.49%' '7.51%' '18.09%' '14.22%' '20.80%' '10.37%' '17.97%' '23.32%'\n",
      " '22.70%' '20.50%' '23.63%' '26.14%' '16.77%' '28.49%' '8.60%' '22.35%'\n",
      " '14.35%' '15.81%' '22.06%' '13.61%' '17.51%' '11.58%' '12.84%' '14.91%'\n",
      " '28.14%' '14.79%' '12.53%' '14.74%' '25.44%' '14.59%' '28.99%' '13.72%'\n",
      " '13.48%' '18.39%' '10.59%' '23.70%' '23.50%' '15.58%' '11.11%' '14.84%'\n",
      " '19.03%' '11.83%' '25.88%' '21.48%' '15.57%' '17.93%' '17.88%' '6.17%'\n",
      " '10.38%' '19.89%' '20.30%' '16.02%' '15.95%' '13.23%' '9.63%' '25.78%'\n",
      " '10.25%' '22.20%' '13.43%' '17.58%' '7.29%' '18.17%' '9.64%' '11.28%'\n",
      " '16.32%' '12.92%' '15.41%' '7.74%' '10.36%' '10.00%' '24.89%' '11.03%'\n",
      " '12.18%' '7.66%' '23.10%' '9.62%' '29.67%' '16.82%' '20.25%' '8.88%'\n",
      " '17.19%' '15.65%' '5.99%' '21.70%' '9.88%' '6.54%' '18.79%' '12.17%'\n",
      " '15.21%' '24.76%' '13.80%' '12.73%' '15.37%' '13.47%' '13.85%' '17.04%'\n",
      " '12.61%' '15.96%' '11.59%' '8.32%' '7.68%' '20.62%' '9.32%' '14.12%'\n",
      " '19.04%' '14.96%' '8.00%' '11.89%' '10.95%' '13.16%' '11.66%' '21.74%'\n",
      " '20.03%' '21.22%' '13.06%' '17.49%' '20.48%' '9.45%' '13.22%' '28.34%'\n",
      " '22.78%' '18.62%' '10.62%' '7.05%' '19.69%' '13.24%' '14.54%' '15.28%'\n",
      " '27.99%' '16.07%' '9.96%' '12.72%' '15.33%' '14.42%' '19.42%' '18.30%'\n",
      " '10.83%' '6.76%' '23.33%' '24.33%' '14.61%' '20.89%' '20.11%' '19.16%'\n",
      " '12.87%' '7.37%' '10.91%' '19.36%' '16.70%' '17.90%' '12.09%' '17.80%'\n",
      " '11.46%' '19.74%' '20.90%' '14.11%' '16.95%' '9.38%' '17.39%' '12.23%'\n",
      " '10.39%' '11.26%' '17.74%' '16.40%' '15.68%' '27.88%' '9.07%' '19.82%'\n",
      " '15.20%' '9.33%' '11.34%' '19.91%' '14.17%' '14.18%' '9.70%' '14.83%'\n",
      " '10.71%' '25.11%' '11.41%' '22.85%' '14.38%' '23.26%' '10.28%' '16.00%'\n",
      " '22.74%' '20.53%' '16.69%' '13.36%' '23.52%' '18.53%' '23.22%' '8.63%'\n",
      " '21.36%' '22.48%' '13.04%' '18.67%' '13.79%' '12.80%' '20.86%' '22.11%'\n",
      " '20.85%' '10.20%' '30.99%' '15.76%' '13.30%' '16.35%' '11.97%' '21.59%'\n",
      " '7.43%' '9.20%' '24.83%' '19.41%' '13.55%' '15.25%' '11.54%' '7.75%'\n",
      " '12.04%' '10.01%' '11.63%' '17.26%' '17.06%' '24.20%' '15.38%' '22.94%'\n",
      " '8.07%' '14.07%' '12.22%' '10.51%' '8.70%' '13.17%' '23.91%' '10.08%'\n",
      " '11.78%' '15.45%' '9.51%' '19.13%' '20.16%' '7.40%' '17.15%' '21.27%'\n",
      " '11.72%' '20.77%' '12.67%' '12.36%' '11.91%' '21.14%' '16.08%' '19.79%']\n",
      "# col installment | nuniq 67752 | uniq [ 858.07  359.49  169.81 ...,  987.33  706.82  231.6 ]\n",
      "# col grade | nuniq 7 | uniq ['C' 'E' 'B' 'A' 'D' 'F' 'G']\n",
      "# col sub_grade | nuniq 35 | uniq ['C1' 'E1' 'C3' 'C4' 'C5' 'B2' 'B1' 'A3' 'A2' 'C2' 'A1' 'A5' 'A4' 'B5' 'B3'\n",
      " 'D2' 'F4' 'E2' 'E4' 'B4' 'D1' 'D4' 'E3' 'D3' 'F1' 'F3' 'E5' 'F5' 'F2' 'D5'\n",
      " 'G2' 'G1' 'G4' 'G3' 'G5']\n",
      "# col emp_title | nuniq 61199 | uniq ['finance director' 'Pharmacist' 'Co-manager' ...,\n",
      " 'Housekeeping technician' 'Beauty dept' 'property mgr.']\n",
      "# col emp_length | nuniq 12 | uniq ['10+ years' '2 years' '7 years' '5 years' '3 years' '1 year' '4 years'\n",
      " '6 years' 'n/a' '< 1 year' '9 years' '8 years']\n",
      "# col home_ownership | nuniq 5 | uniq ['MORTGAGE' 'RENT' 'OWN' 'OTHER' 'NONE']\n",
      "# col annual_inc | nuniq 12565 | uniq [ 125000.   42500.   87000. ...,   36598.   63348.   51630.]\n",
      "# col verification_status | nuniq 3 | uniq ['Verified' 'Not Verified' 'Source Verified']\n",
      "# col issue_d | nuniq 111 | uniq ['Nov-2013' 'Jan-2015' 'Mar-2016' 'Aug-2015' 'Mar-2013' 'Apr-2016'\n",
      " 'May-2016' 'Sep-2016' 'Jul-2015' 'Feb-2015' 'Jul-2014' 'May-2014'\n",
      " 'Apr-2015' 'Oct-2015' 'Jun-2016' 'Jul-2013' 'Oct-2014' 'Aug-2013'\n",
      " 'Mar-2012' 'Mar-2015' 'Aug-2014' 'Jan-2013' 'Feb-2016' 'Jul-2016'\n",
      " 'Jun-2014' 'Aug-2016' 'Sep-2014' 'Dec-2015' 'Nov-2014' 'Jun-2011'\n",
      " 'Sep-2012' 'Jan-2016' 'Apr-2010' 'Oct-2012' 'Feb-2014' 'Nov-2015'\n",
      " 'May-2012' 'Jun-2015' 'Jan-2014' 'May-2015' 'Aug-2012' 'Jul-2011'\n",
      " 'Dec-2014' 'Jun-2012' 'Apr-2014' 'Sep-2015' 'Mar-2014' 'Apr-2013'\n",
      " 'Oct-2011' 'Jan-2011' 'Dec-2011' 'Nov-2011' 'Jun-2013' 'Jan-2012'\n",
      " 'Sep-2013' 'Feb-2012' 'Jan-2010' 'May-2013' 'Oct-2013' 'Aug-2010'\n",
      " 'Nov-2012' 'Dec-2012' 'Feb-2013' 'Aug-2009' 'Dec-2013' 'Jul-2012'\n",
      " 'Nov-2010' 'Apr-2011' 'Mar-2009' 'Feb-2011' 'May-2011' 'Nov-2009'\n",
      " 'Jul-2010' 'Oct-2010' 'Oct-2009' 'Mar-2010' 'Apr-2012' 'Sep-2011'\n",
      " 'Aug-2011' 'May-2010' 'Jul-2009' 'Dec-2010' 'Sep-2010' 'Mar-2011'\n",
      " 'Dec-2009' 'Jun-2010' 'May-2009' 'Dec-2008' 'Sep-2009' 'Feb-2009'\n",
      " 'Jan-2008' 'Aug-2008' 'Jul-2007' 'Mar-2008' 'Dec-2007' 'Jun-2009'\n",
      " 'Feb-2010' 'Jul-2008' 'Apr-2009' 'Sep-2008' 'Feb-2008' 'Jan-2009'\n",
      " 'Jun-2008' 'Oct-2007' 'Nov-2008' 'Oct-2008' 'Apr-2008' 'Aug-2007'\n",
      " 'Nov-2007' 'May-2008' 'Sep-2007']\n",
      "# col loan_status | nuniq 7 | uniq ['Fully Paid' 'Charged Off' 'Current' 'Late (31-120 days)'\n",
      " 'In Grace Period' 'Late (16-30 days)' 'Default']\n",
      "# col url | nuniq 150000 | uniq ['https://lendingclub.com/browse/loanDetail.action?loan_id=8557094'\n",
      " 'https://lendingclub.com/browse/loanDetail.action?loan_id=37632198'\n",
      " 'https://lendingclub.com/browse/loanDetail.action?loan_id=71757622' ...,\n",
      " 'https://lendingclub.com/browse/loanDetail.action?loan_id=90325340'\n",
      " 'https://lendingclub.com/browse/loanDetail.action?loan_id=63426033'\n",
      " 'https://lendingclub.com/browse/loanDetail.action?loan_id=12775605']\n",
      "# col desc | nuniq 15062 | uniq [ 'Borrower added on 11/18/13 > I want to consolidate all my debt and pay everything off within 3 years.<br><br> Borrower added on 11/18/13 > I want to consolidate all my debt and get it paid off within 3 years.<br>'\n",
      " nan\n",
      " 'Borrower added on 07/15/13 > I am consolidating credit card debt.<br>'\n",
      " ...,\n",
      " 'Borrower added on 08/07/13 > Consolidate various credit cards into one monthly payment<br>'\n",
      " \"Borrower added on 03/10/14 > pay down credit cards that are higher in apr's<br>\"\n",
      " 'Borrower added on 03/11/14 > Payoff credit card<br>']\n",
      "# col purpose | nuniq 14 | uniq ['debt_consolidation' 'credit_card' 'car' 'other' 'home_improvement'\n",
      " 'major_purchase' 'vacation' 'moving' 'small_business' 'medical' 'house'\n",
      " 'wedding' 'renewable_energy' 'educational']\n",
      "# col title | nuniq 10081 | uniq ['consolidate & expedite' 'Debt consolidation' nan ..., 'bath restore'\n",
      " 'car repair and dental work' 'No Cards']\n",
      "# col zip_code | nuniq 887 | uniq ['288xx' '601xx' '260xx' '605xx' '970xx' '273xx' '840xx' '108xx' '778xx'\n",
      " '902xx' '956xx' '132xx' '117xx' '922xx' '773xx' '979xx' '218xx' '954xx'\n",
      " '113xx' '344xx' '119xx' '926xx' '144xx' '331xx' '223xx' '640xx' '791xx'\n",
      " '707xx' '806xx' '232xx' '465xx' '303xx' '294xx' '900xx' '116xx' '371xx'\n",
      " '131xx' '797xx' '330xx' '080xx' '852xx' '295xx' '060xx' '856xx' '950xx'\n",
      " '357xx' '600xx' '641xx' '194xx' '355xx' '801xx' '100xx' '941xx' '067xx'\n",
      " '701xx' '980xx' '021xx' '493xx' '577xx' '454xx' '604xx' '190xx' '891xx'\n",
      " '017xx' '986xx' '660xx' '657xx' '554xx' '946xx' '346xx' '853xx' '913xx'\n",
      " '356xx' '430xx' '968xx' '112xx' '940xx' '930xx' '206xx' '958xx' '727xx'\n",
      " '928xx' '328xx' '088xx' '935xx' '535xx' '984xx' '936xx' '130xx' '300xx'\n",
      " '286xx' '115xx' '209xx' '322xx' '342xx' '480xx' '280xx' '339xx' '658xx'\n",
      " '337xx' '741xx' '290xx' '740xx' '142xx' '285xx' '551xx' '054xx' '750xx'\n",
      " '468xx' '910xx' '323xx' '959xx' '775xx' '082xx' '212xx' '027xx' '531xx'\n",
      " '782xx' '917xx' '327xx' '450xx' '763xx' '024xx' '975xx' '207xx' '314xx'\n",
      " '275xx' '581xx' '445xx' '085xx' '296xx' '770xx' '078xx' '309xx' '109xx'\n",
      " '197xx' '086xx' '952xx' '163xx' '774xx' '405xx' '385xx' '668xx' '120xx'\n",
      " '751xx' '703xx' '530xx' '905xx' '383xx' '765xx' '646xx' '118xx' '107xx'\n",
      " '953xx' '236xx' '329xx' '305xx' '210xx' '066xx' '847xx' '933xx' '921xx'\n",
      " '631xx' '700xx' '200xx' '104xx' '020xx' '365xx' '967xx' '477xx' '712xx'\n",
      " '792xx' '370xx' '127xx' '431xx' '875xx' '897xx' '719xx' '943xx' '301xx'\n",
      " '461xx' '393xx' '634xx' '221xx' '710xx' '606xx' '111xx' '850xx' '789xx'\n",
      " '841xx' '253xx' '150xx' '923xx' '324xx' '945xx' '366xx' '463xx' '906xx'\n",
      " '140xx' '787xx' '070xx' '282xx' '761xx' '440xx' '816xx' '890xx' '018xx'\n",
      " '790xx' '380xx' '372xx' '920xx' '882xx' '756xx' '019xx' '880xx' '071xx'\n",
      " '074xx' '793xx' '283xx' '859xx' '141xx' '349xx' '550xx' '893xx' '439xx'\n",
      " '177xx' '672xx' '110xx' '481xx' '614xx' '553xx' '618xx' '064xx' '032xx'\n",
      " '325xx' '401xx' '363xx' '993xx' '310xx' '626xx' '125xx' '312xx' '749xx'\n",
      " '105xx' '441xx' '040xx' '381xx' '217xx' '974xx' '760xx' '180xx' '103xx'\n",
      " '983xx' '201xx' '714xx' '254xx' '015xx' '834xx' '851xx' '452xx' '392xx'\n",
      " '315xx' '762xx' '971xx' '794xx' '352xx' '591xx' '298xx' '960xx' '721xx'\n",
      " '011xx' '121xx' '334xx' '844xx' '189xx' '122xx' '336xx' '982xx' '683xx'\n",
      " '191xx' '374xx' '651xx' '068xx' '230xx' '907xx' '152xx' '147xx' '802xx'\n",
      " '193xx' '800xx' '013xx' '227xx' '451xx' '247xx' '630xx' '184xx' '145xx'\n",
      " '087xx' '102xx' '347xx' '410xx' '436xx' '390xx' '422xx' '483xx' '297xx'\n",
      " '544xx' '448xx' '961xx' '931xx' '934xx' '708xx' '949xx' '211xx' '915xx'\n",
      " '937xx' '731xx' '951xx' '442xx' '023xx' '272xx' '220xx' '724xx' '402xx'\n",
      " '028xx' '670xx' '368xx' '492xx' '705xx' '114xx' '471xx' '932xx' '234xx'\n",
      " '208xx' '648xx' '065xx' '462xx' '752xx' '799xx' '195xx' '995xx' '287xx'\n",
      " '662xx' '274xx' '912xx' '317xx' '281xx' '156xx' '308xx' '244xx' '284xx'\n",
      " '173xx' '265xx' '148xx' '302xx' '895xx' '781xx' '541xx' '146xx' '231xx'\n",
      " '076xx' '360xx' '575xx' '925xx' '219xx' '341xx' '563xx' '988xx' '919xx'\n",
      " '769xx' '871xx' '373xx' '335xx' '776xx' '270xx' '053xx' '277xx' '620xx'\n",
      " '903xx' '786xx' '490xx' '754xx' '669xx' '804xx' '780xx' '030xx' '083xx'\n",
      " '350xx' '990xx' '489xx' '057xx' '321xx' '228xx' '567xx' '784xx' '166xx'\n",
      " '904xx' '453xx' '435xx' '182xx' '333xx' '667xx' '911xx' '016xx' '675xx'\n",
      " '160xx' '985xx' '486xx' '137xx' '927xx' '785xx' '532xx' '534xx' '735xx'\n",
      " '539xx' '559xx' '029xx' '037xx' '466xx' '351xx' '482xx' '989xx' '175xx'\n",
      " '857xx' '215xx' '238xx' '713xx' '395xx' '063xx' '157xx' '870xx' '894xx'\n",
      " '860xx' '972xx' '174xx' '955xx' '293xx' '939xx' '263xx' '978xx' '072xx'\n",
      " '252xx' '796xx' '394xx' '216xx' '722xx' '413xx' '379xx' '106xx' '599xx'\n",
      " '916xx' '565xx' '977xx' '170xx' '014xx' '199xx' '836xx' '805xx' '123xx'\n",
      " '582xx' '432xx' '612xx' '069xx' '992xx' '677xx' '359xx' '914xx' '129xx'\n",
      " '976xx' '384xx' '433xx' '320xx' '226xx' '809xx' '874xx' '134xx' '026xx'\n",
      " '716xx' '764xx' '820xx' '747xx' '249xx' '172xx' '628xx' '622xx' '154xx'\n",
      " '908xx' '386xx' '596xx' '537xx' '362xx' '717xx' '034xx' '810xx' '706xx'\n",
      " '444xx' '178xx' '447xx' '319xx' '759xx' '354xx' '720xx' '396xx' '973xx'\n",
      " '225xx' '681xx' '570xx' '772xx' '338xx' '089xx' '133xx' '815xx' '187xx'\n",
      " '846xx' '843xx' '652xx' '061xx' '757xx' '229xx' '624xx' '077xx' '196xx'\n",
      " '864xx' '783xx' '458xx' '924xx' '684xx' '153xx' '377xx' '185xx' '583xx'\n",
      " '255xx' '617xx' '181xx' '948xx' '547xx' '725xx' '256xx' '176xx' '233xx'\n",
      " '479xx' '633xx' '678xx' '128xx' '571xx' '497xx' '224xx' '424xx' '829xx'\n",
      " '237xx' '730xx' '031xx' '183xx' '460xx' '056xx' '427xx' '944xx' '734xx'\n",
      " '136xx' '813xx' '276xx' '833xx' '610xx' '278xx' '824xx' '737xx' '456xx'\n",
      " '417xx' '616xx' '918xx' '808xx' '587xx' '434xx' '957xx' '222xx' '161xx'\n",
      " '777xx' '748xx' '488xx' '246xx' '421xx' '883xx' '404xx' '812xx' '291xx'\n",
      " '051xx' '306xx' '691xx' '543xx' '155xx' '198xx' '443xx' '326xx' '361xx'\n",
      " '378xx' '755xx' '062xx' '484xx' '467xx' '313xx' '863xx' '540xx' '044xx'\n",
      " '549xx' '560xx' '403xx' '661xx' '464xx' '603xx' '135xx' '041xx' '711xx'\n",
      " '998xx' '022xx' '245xx' '598xx' '981xx' '996xx' '250xx' '474xx' '873xx'\n",
      " '825xx' '636xx' '572xx' '881xx' '101xx' '726xx' '827xx' '151xx' '010xx'\n",
      " '292xx' '391xx' '608xx' '243xx' '476xx' '845xx' '562xx' '814xx' '704xx'\n",
      " '271xx' '075xx' '420xx' '495xx' '566xx' '615xx' '367xx' '593xx' '311xx'\n",
      " '186xx' '723xx' '437xx' '126xx' '025xx' '084xx' '718xx' '316xx' '376xx'\n",
      " '645xx' '262xx' '997xx' '574xx' '400xx' '382xx' '609xx' '299xx' '590xx'\n",
      " '685xx' '680xx' '058xx' '446xx' '665xx' '767xx' '304xx' '671xx' '811xx'\n",
      " '235xx' '546xx' '499xx' '038xx' '613xx' '358xx' '666xx' '158xx' '388xx'\n",
      " '548xx' '188xx' '240xx' '411xx' '588xx' '387xx' '487xx' '826xx' '496xx'\n",
      " '580xx' '179xx' '561xx' '744xx' '627xx' '475xx' '611xx' '743xx' '469xx'\n",
      " '457xx' '261xx' '688xx' '050xx' '573xx' '647xx' '052xx' '307xx' '664xx'\n",
      " '167xx' '012xx' '494xx' '239xx' '073xx' '257xx' '079xx' '318xx' '407xx'\n",
      " '564xx' '585xx' '169xx' '766xx' '159xx' '637xx' '947xx' '364xx' '623xx'\n",
      " '478xx' '279xx' '472xx' '679xx' '165xx' '139xx' '594xx' '650xx' '768xx'\n",
      " '879xx' '473xx' '491xx' '557xx' '619xx' '673xx' '738xx' '788xx' '398xx'\n",
      " '143xx' '625xx' '865xx' '795xx' '138xx' '597xx' '455xx' '729xx' '558xx'\n",
      " '449xx' '674xx' '728xx' '746xx' '828xx' '629xx' '397xx' '542xx' '576xx'\n",
      " '538xx' '607xx' '171xx' '602xx' '214xx' '656xx' '736xx' '638xx' '654xx'\n",
      " '081xx' '644xx' '803xx' '837xx' '676xx' '745xx' '655xx' '164xx' '425xx'\n",
      " '124xx' '653xx' '545xx' '898xx' '035xx' '798xx' '251xx' '416xx' '042xx'\n",
      " '406xx' '241xx' '855xx' '369xx' '168xx' '586xx' '498xx' '485xx' '046xx'\n",
      " '258xx' '470xx' '991xx' '259xx' '779xx' '807xx' '878xx' '831xx' '415xx'\n",
      " '753xx' '592xx' '149xx' '047xx' '096xx' '423xx' '408xx' '556xx' '682xx'\n",
      " '332xx' '045xx' '049xx' '039xx' '242xx' '595xx' '418xx' '584xx' '409xx'\n",
      " '389xx' '555xx' '639xx' '686xx' '877xx' '268xx' '830xx' '033xx' '689xx'\n",
      " '693xx' '823xx' '162xx' '739xx' '264xx' '821xx' '267xx' '835xx' '248xx'\n",
      " '438xx' '348xx' '048xx' '412xx' '758xx' '289xx' '838xx' '832xx' '687xx'\n",
      " '994xx' '999xx' '901xx' '090xx' '962xx' '092xx' '036xx' '635xx' '426xx'\n",
      " '266xx' '043xx' '429xx' '884xx' '414xx' '692xx' '963xx' '965xx' '690xx'\n",
      " '822xx' '097xx' '510xx' '059xx' '663xx' '502xx' '528xx' '007xx' '203xx'\n",
      " '909xx' '969xx' '621xx' '861xx' '742xx']\n",
      "# col addr_state | nuniq 51 | uniq ['NC' 'IL' 'WV' 'OR' 'UT' 'NY' 'TX' 'CA' 'MD' 'FL' 'VA' 'MO' 'LA' 'CO' 'IN'\n",
      " 'GA' 'SC' 'TN' 'NJ' 'AZ' 'CT' 'AL' 'PA' 'WA' 'MA' 'MI' 'SD' 'OH' 'NV' 'KS'\n",
      " 'MN' 'HI' 'AR' 'WI' 'OK' 'VT' 'ND' 'DE' 'KY' 'DC' 'NM' 'MS' 'NH' 'ME' 'ID'\n",
      " 'MT' 'NE' 'RI' 'AK' 'WY' 'IA']\n",
      "# col dti | nuniq 4353 | uniq [ 18.86  26.3   24.12 ...,  43.99  44.69  41.28]\n",
      "# col delinq_2yrs | nuniq 24 | uniq [ 0  1  3  2  4  5  6  8  9 20  7 10 12 39 11 13 17 16 15 14 26 30 18 22]\n",
      "# col earliest_cr_line | nuniq 650 | uniq ['May-1998' 'Dec-1994' 'Nov-2005' 'Nov-2003' 'Dec-2009' 'Jul-1993'\n",
      " 'Feb-1974' 'Mar-1997' 'Jun-2005' 'Apr-1984' 'Jun-1995' 'Jul-1998'\n",
      " 'Feb-2000' 'Mar-2001' 'Apr-2002' 'Sep-2004' 'Oct-1995' 'Jan-2005'\n",
      " 'May-2001' 'Sep-1999' 'Feb-2005' 'Jun-1993' 'Jul-1994' 'Sep-2008'\n",
      " 'Dec-2001' 'Oct-2010' 'Mar-2005' 'Mar-1994' 'Jan-1997' 'Jul-1996'\n",
      " 'Sep-2010' 'Nov-2001' 'Mar-2004' 'Dec-1996' 'Oct-2000' 'Jul-1992'\n",
      " 'Aug-1984' 'Aug-2000' 'May-2005' 'Sep-1984' 'Jul-2004' 'Aug-2001'\n",
      " 'Feb-1998' 'Dec-2000' 'Jan-1998' 'Feb-2012' 'Sep-1995' 'Jan-1999'\n",
      " 'Jan-1995' 'Oct-2004' 'Jan-2000' 'Aug-2002' 'Oct-2006' 'Jul-2000'\n",
      " 'Dec-1999' 'Mar-1999' 'Dec-2002' 'Jul-1970' 'Apr-2005' 'Aug-1995'\n",
      " 'Jun-1999' 'Sep-1989' 'Nov-2000' 'Sep-2003' 'Sep-2001' 'Nov-1997'\n",
      " 'Dec-1997' 'May-1997' 'Oct-1983' 'Apr-2007' 'Sep-2005' 'May-2007'\n",
      " 'Oct-1999' 'Jan-2009' 'Mar-2007' 'Oct-1986' 'Sep-2007' 'Jun-1981'\n",
      " 'Feb-2004' 'Mar-1989' 'Jun-2004' 'Apr-2000' 'Aug-1997' 'Aug-1990'\n",
      " 'Mar-2003' 'Jul-2001' 'Feb-1985' 'Oct-2012' 'Jun-1989' 'Jul-2003'\n",
      " 'May-1999' 'Jul-2010' 'Jan-1992' 'Feb-1978' 'Apr-1997' 'May-2011'\n",
      " 'Sep-1997' 'Jan-1994' 'Feb-2006' 'May-1995' 'Dec-1998' 'Oct-1998'\n",
      " 'Nov-1993' 'Dec-1988' 'Aug-2003' 'May-2003' 'Apr-1987' 'Dec-2004'\n",
      " 'Oct-1984' 'Aug-2005' 'Jul-1990' 'Jan-2001' 'Oct-1996' 'Jul-2002'\n",
      " 'Jul-1999' 'Nov-2004' 'Nov-1992' 'Sep-1990' 'Jul-2005' 'Mar-1977'\n",
      " 'Nov-1985' 'Jun-2003' 'Jan-1978' 'Aug-1986' 'Dec-1991' 'Apr-2006'\n",
      " 'Sep-1996' 'Dec-2005' 'Oct-2003' 'Nov-2002' 'Sep-2000' 'Jun-1997'\n",
      " 'Nov-1999' 'May-1977' 'Mar-1991' 'Feb-2002' 'Nov-1998' 'Aug-1994'\n",
      " 'Jun-1979' 'Oct-1989' 'Jun-2007' 'Jan-1993' 'Oct-2008' 'Apr-1993'\n",
      " 'Apr-2004' 'Nov-1990' 'Aug-1985' 'May-1996' 'Mar-1998' 'Mar-2002'\n",
      " 'May-1989' 'Aug-1996' 'Feb-2001' 'Oct-1993' 'Aug-1998' 'Feb-1995'\n",
      " 'Aug-1991' 'Aug-1970' 'May-2006' 'Jan-2006' 'Mar-2000' 'Nov-2006'\n",
      " 'Apr-1998' 'May-2000' 'Sep-2002' 'Mar-1987' 'Oct-2005' 'Jan-1986'\n",
      " 'Sep-2012' 'Aug-2004' 'Feb-1999' 'Oct-1991' 'Feb-2009' 'Feb-1972'\n",
      " 'Aug-1992' 'Nov-1995' 'Mar-2006' 'Oct-2001' 'Jan-2002' 'Oct-1994'\n",
      " 'Nov-1994' 'Jun-1998' 'Mar-2011' 'Jun-2002' 'Jun-2001' 'Apr-1996'\n",
      " 'Jun-2000' 'Jan-2003' 'Feb-1986' 'Aug-1979' 'Oct-1997' 'May-1986'\n",
      " 'Apr-2001' 'Aug-1999' 'Dec-1986' 'Jun-1987' 'May-1992' 'Jul-2006'\n",
      " 'Aug-2006' 'Oct-2002' 'Nov-1996' 'Apr-2003' 'Jul-1977' 'Nov-1982'\n",
      " 'Dec-1990' 'May-2008' 'Jan-2007' 'Jul-2009' 'Aug-2008' 'Feb-1982'\n",
      " 'May-1993' 'Mar-1993' 'Aug-2007' 'Mar-1964' 'Apr-1990' 'Feb-1994'\n",
      " 'Feb-1997' 'Apr-1995' 'Aug-1988' 'Jul-2007' 'Sep-1998' 'Dec-1983'\n",
      " 'Jan-1988' 'May-1991' 'Nov-2007' 'Sep-1994' 'Dec-2007' 'Nov-1984'\n",
      " 'Jul-1986' 'Nov-1977' 'Mar-2012' 'Apr-1991' 'Jun-1988' 'Dec-2006'\n",
      " 'May-2004' 'Nov-1986' 'Oct-2007' 'Dec-1993' 'Jul-1985' 'Feb-1993'\n",
      " 'Apr-1994' 'Sep-1987' 'Jan-1996' 'Nov-2010' 'Jan-2013' 'May-1987'\n",
      " 'May-1978' 'Apr-1999' 'Jun-1994' 'Aug-2009' 'Jun-1996' 'Aug-1983'\n",
      " 'Oct-1985' 'Aug-1993' 'Sep-2006' 'Feb-2008' 'Jun-1983' 'Jan-2008'\n",
      " 'Mar-1981' 'Jul-1987' 'Feb-1996' 'May-1980' 'Nov-2008' 'Aug-1982'\n",
      " 'Dec-1995' 'Oct-2009' 'Jul-1978' 'Nov-1988' 'Sep-1993' 'Feb-1988'\n",
      " 'Apr-1986' 'Nov-1983' 'May-1981' 'Oct-2011' 'Mar-1996' 'Jul-2008'\n",
      " 'Sep-1977' 'May-1985' 'Jan-2004' 'Dec-1969' 'May-1988' 'Jan-1983'\n",
      " 'Apr-1989' 'Jul-1991' 'Mar-1982' 'Jul-1997' 'May-2002' 'Jun-2009'\n",
      " 'Jul-2012' 'Oct-1992' 'Dec-1985' 'Apr-1978' 'Feb-1987' 'May-2010'\n",
      " 'Feb-1992' 'Dec-2003' 'Feb-2007' 'Aug-1978' 'Jul-1983' 'May-1982'\n",
      " 'Jul-1995' 'Jan-1977' 'Oct-1988' 'Oct-1982' 'Oct-1974' 'Aug-1987'\n",
      " 'Mar-1984' 'Apr-1980' 'Sep-1982' 'Feb-1990' 'Mar-1995' 'Dec-2011'\n",
      " 'Sep-1991' 'Mar-1971' 'Jul-1979' 'Aug-2010' 'Jan-1990' 'Jul-1981'\n",
      " 'Jan-1989' 'Jun-2008' 'Jan-1984' 'Sep-2009' 'Dec-1978' 'Nov-1987'\n",
      " 'Sep-1992' 'Jul-1968' 'Feb-2010' 'Feb-2003' 'Nov-1989' 'Sep-1981'\n",
      " 'Dec-1976' 'Mar-2008' 'Apr-1982' 'Jan-1980' 'May-1973' 'Mar-1970'\n",
      " 'Dec-1989' 'Apr-1979' 'Jan-1985' 'Apr-1992' 'Apr-2008' 'Jun-1985'\n",
      " 'Jan-2012' 'Sep-1966' 'Jun-2006' 'Sep-1980' 'May-1994' 'Feb-1989'\n",
      " 'Mar-1992' 'Oct-1978' 'Mar-1980' 'Sep-1978' 'Jul-2011' 'Apr-1988'\n",
      " 'Oct-1980' 'Mar-1988' 'Feb-1983' 'Nov-2011' 'Jul-1988' 'Sep-1983'\n",
      " 'Nov-1980' 'Jul-1971' 'Feb-1991' 'Jun-1957' 'Oct-1990' 'Mar-2009'\n",
      " 'Aug-2011' 'Apr-1973' 'Jul-1969' 'Jun-1965' 'Oct-1979' 'Dec-1984'\n",
      " 'Mar-1986' 'Nov-1991' 'May-2009' 'Feb-1970' 'Dec-2008' 'Nov-1971'\n",
      " 'Dec-1982' 'Jun-1975' 'Feb-1984' 'Aug-1989' 'Mar-1990' 'Nov-1967'\n",
      " 'May-2012' 'Apr-2011' 'Sep-1988' 'Dec-2010' 'Sep-1979' 'Jan-1987'\n",
      " 'May-1979' 'Mar-2010' 'Jan-1991' 'Dec-1987' 'Apr-2009' 'Jun-1990'\n",
      " 'Jul-1965' 'Jan-2011' 'Jul-1989' 'Oct-1971' 'Jun-1978' 'Dec-1973'\n",
      " 'Apr-1975' 'Jun-1992' 'Jun-2011' 'Oct-1977' 'Jun-1984' 'Jul-1984'\n",
      " 'Jun-2010' 'Jan-1967' 'Nov-2012' 'Aug-1981' 'May-2013' 'Mar-1978'\n",
      " 'Jun-1982' 'May-1983' 'Nov-1978' 'Jun-1991' 'Dec-1974' 'Oct-1973'\n",
      " 'Aug-1971' 'Aug-1977' 'May-1990' 'Apr-1981' 'Nov-1975' 'Sep-1976'\n",
      " 'Jan-1982' 'Aug-1969' 'Jul-1980' 'Sep-1971' 'Mar-1985' 'Dec-1992'\n",
      " 'May-1984' 'Sep-1985' 'Jan-1972' 'Apr-1970' 'Sep-2011' 'Nov-1981'\n",
      " 'Apr-1983' 'Mar-1983' 'Jun-1977' 'Aug-2013' 'Feb-1976' 'Nov-1979'\n",
      " 'Jun-1986' 'Jun-1972' 'Sep-1975' 'Dec-1968' 'Mar-1979' 'Jan-1979'\n",
      " 'Feb-1979' 'Nov-2009' 'Jun-1973' 'Dec-1975' 'Jun-1976' 'Jan-1968'\n",
      " 'Feb-1964' 'Apr-2012' 'Apr-1969' 'Feb-1981' 'Feb-1975' 'Oct-1987'\n",
      " 'Sep-1986' 'Jan-1975' 'May-1969' 'Apr-1968' 'Jun-1966' 'Mar-1976'\n",
      " 'Dec-1981' 'Feb-1980' 'Feb-2013' 'Aug-2012' 'Jul-1982' 'Oct-1981'\n",
      " 'Jan-1948' 'Jan-1974' 'Jan-2010' 'Jan-1981' 'Sep-1967' 'Jan-1961'\n",
      " 'Feb-2011' 'May-1966' 'Apr-2013' 'Oct-1967' 'Jul-1966' 'Mar-1974'\n",
      " 'Jan-1976' 'Jun-1969' 'Oct-1972' 'Jun-1967' 'Dec-1971' 'Feb-1971'\n",
      " 'Feb-1968' 'Sep-1974' 'Jun-2012' 'Oct-1964' 'Jul-1975' 'Apr-1985'\n",
      " 'Jun-1970' 'Jul-1955' 'Aug-1975' 'Mar-1975' 'Sep-1953' 'Dec-1980'\n",
      " 'May-1971' 'Jan-1960' 'May-1970' 'Sep-1969' 'Jun-1974' 'Sep-1970'\n",
      " 'Apr-1972' 'Dec-1977' 'Feb-1977' 'Jul-1972' 'Mar-2013' 'May-1974'\n",
      " 'Sep-1973' 'Apr-1966' 'Jul-2013' 'Jun-1971' 'Aug-1976' 'Apr-2010'\n",
      " 'Nov-1972' 'Aug-1973' 'Nov-1964' 'Nov-1969' 'Jul-1976' 'May-1972'\n",
      " 'Apr-1976' 'May-1975' 'Jan-1973' 'May-1955' 'Nov-1974' 'May-1976'\n",
      " 'Nov-1973' 'Dec-2012' 'Oct-1976' 'Jan-1965' 'Mar-1969' 'Apr-1971'\n",
      " 'Aug-1974' 'May-1967' 'Oct-1968' 'Jul-1964' 'Nov-1976' 'Jul-1967'\n",
      " 'Aug-1980' 'Dec-1967' 'Apr-1977' 'Feb-1973' 'Dec-1966' 'Mar-1968'\n",
      " 'Mar-1973' 'Jun-2013' 'Jan-1970' 'Mar-1967' 'Dec-1963' 'Feb-1969'\n",
      " 'Jan-1962' 'Jan-1964' 'Mar-1972' 'Dec-1972' 'Jan-1956' 'Aug-1961'\n",
      " 'Jun-1980' 'Oct-1970' 'Dec-1979' 'Feb-1962' 'Jan-1969' 'Jul-1963'\n",
      " 'Jun-1964' 'Aug-1965' 'Oct-1975' 'Oct-1962' 'May-1960' 'Jan-1971'\n",
      " 'Mar-1966' 'Aug-1968' 'Jun-1968' 'Dec-1965' 'Dec-1970' 'Apr-1974'\n",
      " 'Jul-1974' 'Nov-1960' 'May-1968' 'Jul-1973' 'Jul-1960' 'Sep-1968'\n",
      " 'Sep-1965' 'Dec-1962' 'Oct-1958' 'Apr-1963' 'Feb-1965' 'Nov-1970'\n",
      " 'Aug-1966' 'Jun-1963' 'Nov-1965' 'Jan-1966' 'Nov-1962' 'Aug-1972'\n",
      " 'Oct-1969' 'Sep-1972' 'Mar-1961' 'Nov-1961' 'Nov-1963' 'Nov-1966'\n",
      " 'Mar-1963' 'Apr-1964' 'Apr-1965' 'Jan-1959' 'Jul-1951' 'Mar-1965'\n",
      " 'Jan-1963' 'Aug-1967' 'Oct-1965' 'Mar-1962' 'Jun-1962' 'Sep-1964'\n",
      " 'Apr-1967' 'Feb-1945' 'Dec-1964' 'Dec-1961' 'Sep-1962' 'May-1963'\n",
      " 'Jan-1958' 'Feb-1967' 'Jan-1951' 'May-1965' 'Jan-1955' 'Nov-1968'\n",
      " 'Aug-1964' 'Dec-1960' 'Apr-1955' 'May-1959' 'Nov-1957' 'Aug-1959'\n",
      " 'Nov-1950' 'Oct-1960' 'Oct-1963' 'Oct-1966' 'Sep-1961' 'Nov-1958'\n",
      " 'Nov-1959' 'Aug-1941' 'Feb-1966' 'Mar-1959' 'May-1964' 'Apr-1958'\n",
      " 'Sep-1963' 'Apr-1960']\n",
      "# col inq_last_6mths | nuniq 9 | uniq [0 1 2 3 4 5 6 7 8]\n",
      "# col open_acc | nuniq 62 | uniq [17 13  9  8 11 10  5 16  4  3  6 14 21 20 15  7 25 12 22 18 26  2 19 23 32\n",
      " 29 24 35 27 31 30 33 38 37 28 53 43  1 39 36 34 50 45 40 48 44 47 42 41  0\n",
      " 52 59 61 49 60 54 51 46 62 56 55 63]\n",
      "# col pub_rec | nuniq 21 | uniq [ 1  0  2  3  7  5  4  6 12 21 15  8  9 10 20 11 14 18 13 19 86]\n",
      "# col revol_util | nuniq 1133 | uniq ['82.6%' '70.3%' '61.6%' ..., '109.9%' '111.5%' '106.1%']\n",
      "# col total_acc | nuniq 107 | uniq [ 42  26  23  16  15  27  28  25  19  30  20  38  22  24  39  29  10  14\n",
      "   8  55  17  35  21   7  33  12  36  50  46  13  18  34  32  37  40  31\n",
      "  47   9   5  45  43  49  11  52  44  62  41  51  48   6  65  61  74  56\n",
      "  53  54   4  63  57  67  96  68  58  59  66  89  91  64  69  70   3  73\n",
      "  86  60  71  72  90  77  83  98   2  78 105  82  85  75  76  80  95  79\n",
      "  93  87  88  81 102  84 104 101  94 112  97 124  92 107 121 106  99]\n",
      "# col initial_list_status | nuniq 2 | uniq ['f' 'w']\n",
      "# col application_type | nuniq 3 | uniq ['INDIVIDUAL' 'DIRECT_PAY' 'JOINT']\n"
     ]
    }
   ],
   "source": [
    "for col in data.columns:\n",
    "    print('# col {} | nuniq {} | uniq {}'.format(col, len(data[col].unique()), data[col].unique()))"
   ]
  },
  {
   "cell_type": "code",
   "execution_count": 6,
   "metadata": {
    "collapsed": false
   },
   "outputs": [
    {
     "data": {
      "text/plain": [
       "Index(['id', 'member_id', 'loan_amnt', 'funded_amnt', 'funded_amnt_inv',\n",
       "       'term', 'int_rate', 'installment', 'grade', 'sub_grade', 'emp_title',\n",
       "       'emp_length', 'home_ownership', 'annual_inc', 'verification_status',\n",
       "       'issue_d', 'loan_status', 'url', 'desc', 'purpose', 'title', 'zip_code',\n",
       "       'addr_state', 'dti', 'delinq_2yrs', 'earliest_cr_line',\n",
       "       'inq_last_6mths', 'open_acc', 'pub_rec', 'revol_util', 'total_acc',\n",
       "       'initial_list_status', 'application_type'],\n",
       "      dtype='object')"
      ]
     },
     "execution_count": 6,
     "metadata": {},
     "output_type": "execute_result"
    }
   ],
   "source": [
    "data.columns\n",
    "\n",
    "# try understanding\n",
    "# installment : monthly payment incl. interest rate\n",
    "# dti : monthly debt payment / monthly income ratio excluding mortgage and LC loan\n",
    "# pub_rec : financial payments not paid as agreed\n",
    "# revol_util : ratio of credit line one is using\n",
    "# initial_list_status : Whole loan, fraction loan (invested by one or more person)"
   ]
  },
  {
   "cell_type": "code",
   "execution_count": 4,
   "metadata": {
    "collapsed": false
   },
   "outputs": [
    {
     "data": {
      "text/plain": [
       "Index(['id', 'member_id', 'loan_amnt', 'funded_amnt', 'funded_amnt_inv',\n",
       "       'term', 'int_rate', 'installment', 'grade', 'sub_grade', 'emp_title',\n",
       "       'emp_length', 'home_ownership', 'annual_inc', 'verification_status',\n",
       "       'issue_d', 'loan_status', 'url', 'desc', 'purpose', 'title', 'zip_code',\n",
       "       'addr_state', 'dti', 'delinq_2yrs', 'earliest_cr_line',\n",
       "       'inq_last_6mths', 'open_acc', 'pub_rec', 'revol_util', 'total_acc',\n",
       "       'initial_list_status', 'application_type'],\n",
       "      dtype='object')"
      ]
     },
     "execution_count": 4,
     "metadata": {},
     "output_type": "execute_result"
    }
   ],
   "source": [
    "tst.columns"
   ]
  },
  {
   "cell_type": "code",
   "execution_count": 7,
   "metadata": {
    "collapsed": true
   },
   "outputs": [],
   "source": [
    "# what are we trying to predict?\n",
    "# 1. interest rate?  > how much to charge for loan?\n",
    "# 2. loan amount? > how much one requests?\n",
    "# 3. current status? > detect who is late?"
   ]
  },
  {
   "cell_type": "markdown",
   "metadata": {},
   "source": [
    "Data is essentially a log file of user's current loan situation.\n",
    "\n",
    "Data can be classified into\n",
    "    - Identifier: id, member_id\n",
    "    - Loan info : loan_amnt, funded_amnt, funded_amnt_inv, grade, sub_grade, int_rate, loan_status, purpose, title, installment, term, issue_d, url, desc, application_type\n",
    "    - User info : emp_title, emp_length, home_ownership, annual_inc, verification_status, zip_code, addr_state, dti, delinq_2yrs, earliest_cr_line, inq_last_6mths, open_acc, pub_rec, revol_util, total_acc, initial_list_status\n",
    "    \n"
   ]
  },
  {
   "cell_type": "code",
   "execution_count": 8,
   "metadata": {
    "collapsed": false
   },
   "outputs": [
    {
     "name": "stdout",
     "output_type": "stream",
     "text": [
      "# histogram of loan_amnt\n"
     ]
    },
    {
     "data": {
      "image/png": "[encoded data removed]",
      "text/plain": [
       "<matplotlib.figure.Figure at 0x109000438>"
      ]
     },
     "metadata": {},
     "output_type": "display_data"
    },
    {
     "name": "stdout",
     "output_type": "stream",
     "text": [
      "# histogram of funded_amnt\n"
     ]
    },
    {
     "data": {
      "image/png": "[encoded data removed]",
      "text/plain": [
       "<matplotlib.figure.Figure at 0x1090fbe48>"
      ]
     },
     "metadata": {},
     "output_type": "display_data"
    },
    {
     "name": "stdout",
     "output_type": "stream",
     "text": [
      "# histogram of funded_amnt_inv\n"
     ]
    },
    {
     "data": {
      "image/png": "[encoded data removed]",
      "text/plain": [
       "<matplotlib.figure.Figure at 0x10911fbe0>"
      ]
     },
     "metadata": {},
     "output_type": "display_data"
    }
   ],
   "source": [
    "# histogram of loan requested, actual amount funded/invested\n",
    "# expect to be almost same, turns out almost identical\n",
    "cols = ['loan_amnt', 'funded_amnt', 'funded_amnt_inv']\n",
    "\n",
    "for col in cols:\n",
    "    print('# histogram of {}'.format(col))\n",
    "    sns.distplot(data[col].fillna(-10), kde=False)\n",
    "    plt.show()"
   ]
  },
  {
   "cell_type": "code",
   "execution_count": 9,
   "metadata": {
    "collapsed": false
   },
   "outputs": [
    {
     "data": {
      "text/plain": [
       "<matplotlib.axes._subplots.AxesSubplot at 0x1090a22e8>"
      ]
     },
     "execution_count": 9,
     "metadata": {},
     "output_type": "execute_result"
    },
    {
     "data": {
      "image/png": "[encoded data removed]",
      "text/plain": [
       "<matplotlib.figure.Figure at 0x109004c50>"
      ]
     },
     "metadata": {},
     "output_type": "display_data"
    }
   ],
   "source": [
    "# difference in loan requested amount and actually funded amount\n",
    "# almost close to 0 with few outliers\n",
    "sns.distplot((data['funded_amnt'] - data['loan_amnt']), kde=False)"
   ]
  },
  {
   "cell_type": "code",
   "execution_count": 10,
   "metadata": {
    "collapsed": false
   },
   "outputs": [
    {
     "data": {
      "text/plain": [
       "count    150000.000000\n",
       "mean         -9.326667\n",
       "std         266.589517\n",
       "min      -16950.000000\n",
       "25%           0.000000\n",
       "50%           0.000000\n",
       "75%           0.000000\n",
       "max           0.000000\n",
       "dtype: float64"
      ]
     },
     "execution_count": 10,
     "metadata": {},
     "output_type": "execute_result"
    }
   ],
   "source": [
    "(data['funded_amnt'] - data['loan_amnt']).describe()"
   ]
  },
  {
   "cell_type": "code",
   "execution_count": 11,
   "metadata": {
    "collapsed": false
   },
   "outputs": [
    {
     "data": {
      "text/plain": [
       "<matplotlib.axes._subplots.AxesSubplot at 0x1090783c8>"
      ]
     },
     "execution_count": 11,
     "metadata": {},
     "output_type": "execute_result"
    },
    {
     "data": {
      "image/png": "[encoded data removed]",
      "text/plain": [
       "<matplotlib.figure.Figure at 0x1090af7b8>"
      ]
     },
     "metadata": {},
     "output_type": "display_data"
    }
   ],
   "source": [
    "int_rate = data['int_rate'].apply(lambda x: x[:-1]).astype(np.float32)\n",
    "\n",
    "# distribution of interest rate\n",
    "sns.distplot(int_rate, kde=False)\n",
    "\n",
    "# between 5 ~ 20%"
   ]
  },
  {
   "cell_type": "code",
   "execution_count": 12,
   "metadata": {
    "collapsed": false
   },
   "outputs": [
    {
     "data": {
      "text/plain": [
       "<seaborn.axisgrid.FacetGrid at 0x10928d668>"
      ]
     },
     "execution_count": 12,
     "metadata": {},
     "output_type": "execute_result"
    },
    {
     "data": {
      "image/png": "[encoded data removed]",
      "text/plain": [
       "<matplotlib.figure.Figure at 0x109004e48>"
      ]
     },
     "metadata": {},
     "output_type": "display_data"
    }
   ],
   "source": [
    "# Facet plot : observe how loan_status differ by their grade\n",
    "# turns out: there is almost no F,G grade loaners, \n",
    "g = sns.FacetGrid(data, row='grade', col='loan_status', margin_titles=True)\n",
    "g.map(plt.hist, 'loan_amnt', color='steelblue', lw=0)"
   ]
  },
  {
   "cell_type": "code",
   "execution_count": 13,
   "metadata": {
    "collapsed": false
   },
   "outputs": [
    {
     "name": "stdout",
     "output_type": "stream",
     "text": [
      "count    1.500000e+05\n",
      "mean     7.620913e+04\n",
      "std      6.414790e+04\n",
      "min      0.000000e+00\n",
      "25%      4.600000e+04\n",
      "50%      6.500000e+04\n",
      "75%      9.000000e+04\n",
      "max      8.400000e+06\n",
      "Name: annual_inc, dtype: float64\n"
     ]
    },
    {
     "data": {
      "text/plain": [
       "<matplotlib.axes._subplots.AxesSubplot at 0x10da65c88>"
      ]
     },
     "execution_count": 13,
     "metadata": {},
     "output_type": "execute_result"
    },
    {
     "data": {
      "image/png": "[encoded data removed]",
      "text/plain": [
       "<matplotlib.figure.Figure at 0x10c3b6f28>"
      ]
     },
     "metadata": {},
     "output_type": "display_data"
    }
   ],
   "source": [
    "# check annual income\n",
    "# extreme outlier with 8M.\n",
    "# need to combine with verification info for reliability\n",
    "\n",
    "print(data['annual_inc'].describe())\n",
    "\n",
    "sns.distplot(data['annual_inc'], kde=False)"
   ]
  },
  {
   "cell_type": "code",
   "execution_count": null,
   "metadata": {
    "collapsed": true
   },
   "outputs": [],
   "source": []
  },
  {
   "cell_type": "code",
   "execution_count": null,
   "metadata": {
    "collapsed": true
   },
   "outputs": [],
   "source": []
  },
  {
   "cell_type": "markdown",
   "metadata": {},
   "source": [
    "WHAT ARE WE PREDICTING?"
   ]
  },
  {
   "cell_type": "code",
   "execution_count": null,
   "metadata": {
    "collapsed": true
   },
   "outputs": [],
   "source": []
  },
  {
   "cell_type": "code",
   "execution_count": 14,
   "metadata": {
    "collapsed": false
   },
   "outputs": [
    {
     "name": "stdout",
     "output_type": "stream",
     "text": [
      "# col id | na_count 0\n",
      "# col member_id | na_count 0\n",
      "# col loan_amnt | na_count 0\n",
      "# col funded_amnt | na_count 0\n",
      "# col funded_amnt_inv | na_count 50\n",
      "# col term | na_count 0\n",
      "# col int_rate | na_count 0\n",
      "# col installment | na_count 0\n",
      "# col grade | na_count 0\n",
      "# col sub_grade | na_count 0\n",
      "# col emp_title | na_count 8949\n",
      "# col emp_length | na_count 0\n",
      "# col home_ownership | na_count 0\n",
      "# col annual_inc | na_count 0\n",
      "# col verification_status | na_count 0\n",
      "# col issue_d | na_count 0\n",
      "# col loan_status | na_count 0\n",
      "# col url | na_count 0\n",
      "# col desc | na_count 134910\n",
      "# col purpose | na_count 0\n",
      "# col title | na_count 2799\n",
      "# col zip_code | na_count 0\n",
      "# col addr_state | na_count 0\n",
      "# col dti | na_count 0\n",
      "# col delinq_2yrs | na_count 0\n",
      "# col earliest_cr_line | na_count 0\n",
      "# col inq_last_6mths | na_count 0\n",
      "# col open_acc | na_count 0\n",
      "# col pub_rec | na_count 0\n",
      "# col revol_util | na_count 83\n",
      "# col total_acc | na_count 0\n",
      "# col initial_list_status | na_count 0\n",
      "# col application_type | na_count 0\n"
     ]
    }
   ],
   "source": [
    "# count of na\n",
    "\n",
    "for col in data.columns:\n",
    "    print('# col {} | na_count {}'.format(col, trn[col].isnull().sum()))"
   ]
  },
  {
   "cell_type": "code",
   "execution_count": 15,
   "metadata": {
    "collapsed": false
   },
   "outputs": [
    {
     "name": "stdout",
     "output_type": "stream",
     "text": [
      "# col id | dtype int64\n",
      "# col member_id | dtype int64\n",
      "# col loan_amnt | dtype int64\n",
      "# col funded_amnt | dtype int64\n",
      "# col funded_amnt_inv | dtype float64\n",
      "# col term | dtype object\n",
      "# col int_rate | dtype object\n",
      "# col installment | dtype float64\n",
      "# col grade | dtype object\n",
      "# col sub_grade | dtype object\n",
      "# col emp_title | dtype object\n",
      "# col emp_length | dtype object\n",
      "# col home_ownership | dtype object\n",
      "# col annual_inc | dtype float64\n",
      "# col verification_status | dtype object\n",
      "# col issue_d | dtype object\n",
      "# col loan_status | dtype object\n",
      "# col url | dtype object\n",
      "# col desc | dtype object\n",
      "# col purpose | dtype object\n",
      "# col title | dtype object\n",
      "# col zip_code | dtype object\n",
      "# col addr_state | dtype object\n",
      "# col dti | dtype float64\n",
      "# col delinq_2yrs | dtype int64\n",
      "# col earliest_cr_line | dtype object\n",
      "# col inq_last_6mths | dtype int64\n",
      "# col open_acc | dtype int64\n",
      "# col pub_rec | dtype int64\n",
      "# col revol_util | dtype object\n",
      "# col total_acc | dtype int64\n",
      "# col initial_list_status | dtype object\n",
      "# col application_type | dtype object\n"
     ]
    }
   ],
   "source": [
    "# dtype\n",
    "\n",
    "for col in data.columns:\n",
    "    print('# col {} | dtype {}'.format(col, trn[col].dtypes))"
   ]
  },
  {
   "cell_type": "code",
   "execution_count": 19,
   "metadata": {
    "collapsed": false
   },
   "outputs": [
    {
     "name": "stdout",
     "output_type": "stream",
     "text": [
      "# col term | nuniq 2\n",
      "# col int_rate | nuniq 489\n",
      "# col grade | nuniq 7\n",
      "# col sub_grade | nuniq 35\n",
      "# col emp_title | nuniq 61199\n",
      "# col emp_length | nuniq 12\n",
      "# col home_ownership | nuniq 5\n",
      "# col verification_status | nuniq 3\n",
      "# col issue_d | nuniq 111\n",
      "# col loan_status | nuniq 7\n",
      "# col url | nuniq 150000\n",
      "# col desc | nuniq 15062\n",
      "# col purpose | nuniq 14\n",
      "# col title | nuniq 10081\n",
      "# col zip_code | nuniq 887\n",
      "# col addr_state | nuniq 51\n",
      "# col earliest_cr_line | nuniq 650\n",
      "# col revol_util | nuniq 1133\n",
      "# col initial_list_status | nuniq 2\n",
      "# col application_type | nuniq 3\n"
     ]
    }
   ],
   "source": [
    "# check object dtypes\n",
    "\n",
    "for col in data.columns:\n",
    "    if trn[col].dtypes == 'O':\n",
    "        print('# col {} | nuniq {}'.format(col, len(trn[col].unique())))"
   ]
  },
  {
   "cell_type": "code",
   "execution_count": null,
   "metadata": {
    "collapsed": true
   },
   "outputs": [],
   "source": []
  },
  {
   "cell_type": "code",
   "execution_count": 20,
   "metadata": {
    "collapsed": false
   },
   "outputs": [
    {
     "data": {
      "text/plain": [
       "id                                                               8557094\n",
       "member_id                                                       10309140\n",
       "loan_amnt                                                          25000\n",
       "funded_amnt                                                        25000\n",
       "funded_amnt_inv                                                    25000\n",
       "term                                                           36 months\n",
       "int_rate                                                          14.30%\n",
       "installment                                                       858.07\n",
       "grade                                                                  C\n",
       "sub_grade                                                             C1\n",
       "emp_title                                               finance director\n",
       "emp_length                                                     10+ years\n",
       "home_ownership                                                  MORTGAGE\n",
       "annual_inc                                                        125000\n",
       "verification_status                                             Verified\n",
       "issue_d                                                         Nov-2013\n",
       "loan_status                                                   Fully Paid\n",
       "url                    https://lendingclub.com/browse/loanDetail.acti...\n",
       "desc                   Borrower added on 11/18/13 > I want to consoli...\n",
       "purpose                                               debt_consolidation\n",
       "title                                             consolidate & expedite\n",
       "zip_code                                                           288xx\n",
       "addr_state                                                            NC\n",
       "dti                                                                18.86\n",
       "delinq_2yrs                                                            0\n",
       "earliest_cr_line                                                May-1998\n",
       "inq_last_6mths                                                         0\n",
       "open_acc                                                              17\n",
       "pub_rec                                                                1\n",
       "revol_util                                                         82.6%\n",
       "total_acc                                                             42\n",
       "initial_list_status                                                    f\n",
       "application_type                                              INDIVIDUAL\n",
       "Name: 0, dtype: object"
      ]
     },
     "execution_count": 20,
     "metadata": {},
     "output_type": "execute_result"
    }
   ],
   "source": [
    "# case study\n",
    "\n",
    "data.iloc[0]"
   ]
  },
  {
   "cell_type": "code",
   "execution_count": null,
   "metadata": {
    "collapsed": true
   },
   "outputs": [],
   "source": []
  },
  {
   "cell_type": "markdown",
   "metadata": {},
   "source": [
    "# Modeling"
   ]
  },
  {
   "cell_type": "code",
   "execution_count": 47,
   "metadata": {
    "collapsed": true
   },
   "outputs": [],
   "source": [
    "from sklearn.model_selection import StratifiedKFold\n",
    "from sklearn.ensemble import RandomForestRegressor\n",
    "from sklearn.metrics import mean_squared_error, mean_absolute_error, r2_score"
   ]
  },
  {
   "cell_type": "code",
   "execution_count": 98,
   "metadata": {
    "collapsed": true
   },
   "outputs": [],
   "source": [
    "cols = ['loan_amnt', 'installment', 'annual_inc', 'dti' ,'delinq_2yrs', 'inq_last_6mths', 'open_acc',\n",
    "        'pub_rec', 'total_acc']"
   ]
  },
  {
   "cell_type": "code",
   "execution_count": 7,
   "metadata": {
    "collapsed": false
   },
   "outputs": [
    {
     "ename": "NameError",
     "evalue": "name 'cols' is not defined",
     "output_type": "error",
     "traceback": [
      "\u001b[0;31m---------------------------------------------------------------------------\u001b[0m",
      "\u001b[0;31mNameError\u001b[0m                                 Traceback (most recent call last)",
      "\u001b[0;32m<ipython-input-7-aa1da95cf3e7>\u001b[0m in \u001b[0;36m<module>\u001b[0;34m()\u001b[0m\n\u001b[0;32m----> 1\u001b[0;31m \u001b[0mtrn\u001b[0m \u001b[0;34m=\u001b[0m \u001b[0mdata\u001b[0m\u001b[0;34m.\u001b[0m\u001b[0mas_matrix\u001b[0m\u001b[0;34m(\u001b[0m\u001b[0mcolumns\u001b[0m\u001b[0;34m=\u001b[0m\u001b[0mcols\u001b[0m\u001b[0;34m)\u001b[0m\u001b[0;34m\u001b[0m\u001b[0m\n\u001b[0m\u001b[1;32m      2\u001b[0m \u001b[0my\u001b[0m \u001b[0;34m=\u001b[0m \u001b[0mint_rate\u001b[0m\u001b[0;34m\u001b[0m\u001b[0m\n",
      "\u001b[0;31mNameError\u001b[0m: name 'cols' is not defined"
     ]
    }
   ],
   "source": [
    "trn = data.as_matrix(columns=cols)\n",
    "y = int_rate"
   ]
  },
  {
   "cell_type": "code",
   "execution_count": 104,
   "metadata": {
    "collapsed": true
   },
   "outputs": [],
   "source": [
    "def mean_n_std(df):\n",
    "    return '{} + {}'.format(round(np.mean(df),4), round(np.std(df),4))"
   ]
  },
  {
   "cell_type": "code",
   "execution_count": 113,
   "metadata": {
    "collapsed": false
   },
   "outputs": [
    {
     "name": "stderr",
     "output_type": "stream",
     "text": [
      "/Library/Frameworks/Python.framework/Versions/3.5/lib/python3.5/site-packages/sklearn/model_selection/_split.py:581: Warning: The least populated class in y has only 1 members, which is too few. The minimum number of groups for any class cannot be less than n_splits=3.\n",
      "  % (min_groups, self.n_splits)), Warning)\n"
     ]
    },
    {
     "name": "stdout",
     "output_type": "stream",
     "text": [
      "==================================================\n",
      " TRAIN\n",
      "--------------------------------------------------\n",
      "# CV RMSE : 1.0074 + 0.0212\n",
      "# CV MAE  : 0.5092 + 0.0151\n",
      "# CV R2   : 0.9512 + 0.0011\n",
      "# CV Corr : 0.978 + 0.0004\n",
      "==================================================\n",
      " VALID\n",
      "--------------------------------------------------\n",
      "# CV RMSE : 5.2701 + 0.1381\n",
      "# CV MAE  : 1.2348 + 0.0429\n",
      "# CV R2   : 0.7445 + 0.006\n",
      "# CV Corr : 0.8658 + 0.0029\n"
     ]
    }
   ],
   "source": [
    "trn_rmse = []; vld_rmse = []\n",
    "trn_mae = []; vld_mae = []\n",
    "trn_r2 = []; vld_r2 = []\n",
    "trn_corr = []; vld_corr = []\n",
    "\n",
    "skf = StratifiedKFold(n_splits=3)\n",
    "for trn_index, vld_index in skf.split(trn, y):\n",
    "    \n",
    "    # split data into trn/vld\n",
    "    x_trn, x_vld = trn[trn_index], trn[vld_index]\n",
    "    y_trn, y_vld = y[trn_index], y[vld_index]\n",
    "    \n",
    "    # model fit\n",
    "    model = RandomForestRegressor(max_depth=50, \n",
    "                                  n_jobs=-1, random_state=777)\n",
    "    model.fit(x_trn, y_trn)\n",
    "\n",
    "    # trn scores\n",
    "    trn_pred = model.predict(x_trn)\n",
    "    trn_rmse.append(mean_squared_error(y_trn, trn_pred))\n",
    "    trn_mae.append(mean_absolute_error(y_trn, trn_pred))\n",
    "    trn_r2.append(r2_score(y_trn, trn_pred))\n",
    "    trn_corr.append(np.corrcoef(y_trn, trn_pred)[0,1])\n",
    "    \n",
    "    # vld scores\n",
    "    vld_pred = model.predict(x_vld)\n",
    "    vld_rmse.append(mean_squared_error(y_vld, vld_pred))\n",
    "    vld_mae.append(mean_absolute_error(y_vld, vld_pred))\n",
    "    vld_r2.append(r2_score(y_vld, vld_pred))\n",
    "    vld_corr.append(np.corrcoef(y_vld, vld_pred)[0,1])\n",
    "    \n",
    "print('=' * 50)\n",
    "print(' TRAIN')\n",
    "print('-' * 50)\n",
    "print('# CV RMSE : {}'.format(mean_n_std(trn_rmse)))\n",
    "print('# CV MAE  : {}'.format(mean_n_std(trn_mae)))\n",
    "print('# CV R2   : {}'.format(mean_n_std(trn_r2)))\n",
    "print('# CV Corr : {}'.format(mean_n_std(trn_corr)))\n",
    "\n",
    "print('=' * 50)\n",
    "print(' VALID')\n",
    "print('-' * 50)\n",
    "print('# CV RMSE : {}'.format(mean_n_std(vld_rmse)))\n",
    "print('# CV MAE  : {}'.format(mean_n_std(vld_mae)))\n",
    "print('# CV R2   : {}'.format(mean_n_std(vld_r2)))\n",
    "print('# CV Corr : {}'.format(mean_n_std(vld_corr)))"
   ]
  },
  {
   "cell_type": "code",
   "execution_count": null,
   "metadata": {
    "collapsed": true
   },
   "outputs": [],
   "source": [
    "# 3-fold CV [RMSE]\n",
    "# depth =  5 | trn 17.33 | vld 17.43\n",
    "# depth = 10 | trn 12.12 | vld 13.02 \n",
    "# depth = 15 | trn 5.17  | vld 7.95 \n",
    "# depth = 20 | trn 1.83  | vld 5.77\n",
    "# depth = 25 | trn 1.11  | vld 5.34\n",
    "# depth = 30 | trn 1.01  | vld 5.28\n",
    "# depth = 50 | trn 1.00  | vld 5.27"
   ]
  },
  {
   "cell_type": "code",
   "execution_count": 120,
   "metadata": {
    "collapsed": false
   },
   "outputs": [
    {
     "name": "stdout",
     "output_type": "stream",
     "text": [
      "# col loan_amnt | val 25000.0\n",
      "# col installment | val 858.07\n",
      "# col annual_inc | val 125000.0\n",
      "# col dti | val 18.86\n",
      "# col delinq_2yrs | val 0.0\n",
      "# col inq_last_6mths | val 0.0\n",
      "# col open_acc | val 17.0\n",
      "# col pub_rec | val 1.0\n",
      "# col total_acc | val 42.0\n",
      "\n",
      "# True : 14.300000190734863 | Pred : 13.532000064849854\n"
     ]
    },
    {
     "name": "stderr",
     "output_type": "stream",
     "text": [
      "/Library/Frameworks/Python.framework/Versions/3.5/lib/python3.5/site-packages/sklearn/utils/validation.py:395: DeprecationWarning: Passing 1d arrays as data is deprecated in 0.17 and will raise ValueError in 0.19. Reshape your data either using X.reshape(-1, 1) if your data has a single feature or X.reshape(1, -1) if it contains a single sample.\n",
      "  DeprecationWarning)\n"
     ]
    }
   ],
   "source": [
    "for i, col in enumerate(cols):\n",
    "    print('# col {} | val {}'.format(cols[i], trn[0][i]))\n",
    "    \n",
    "print('\\n# True : {} | Pred : {}'.format(y[0], model.predict(trn[0])[0]))"
   ]
  },
  {
   "cell_type": "code",
   "execution_count": 122,
   "metadata": {
    "collapsed": false
   },
   "outputs": [
    {
     "data": {
      "text/plain": [
       "<matplotlib.axes._subplots.AxesSubplot at 0x112f8c160>"
      ]
     },
     "execution_count": 122,
     "metadata": {},
     "output_type": "execute_result"
    },
    {
     "data": {
      "image/png": "[encoded data removed]",
      "text/plain": [
       "<matplotlib.figure.Figure at 0x112f9c7b8>"
      ]
     },
     "metadata": {},
     "output_type": "display_data"
    }
   ],
   "source": [
    "sns.regplot(y_vld, vld_pred)"
   ]
  },
  {
   "cell_type": "markdown",
   "metadata": {},
   "source": [
    "# visualization"
   ]
  },
  {
   "cell_type": "code",
   "execution_count": 114,
   "metadata": {
    "collapsed": false
   },
   "outputs": [
    {
     "name": "stdout",
     "output_type": "stream",
     "text": [
      "==================================================\n",
      "RandomForestRegressor(bootstrap=True, criterion='mse', max_depth=50,\n",
      "           max_features='auto', max_leaf_nodes=None,\n",
      "           min_impurity_split=1e-07, min_samples_leaf=1,\n",
      "           min_samples_split=2, min_weight_fraction_leaf=0.0,\n",
      "           n_estimators=10, n_jobs=-1, oob_score=False, random_state=777,\n",
      "           verbose=0, warm_start=False)\n",
      "--------------------------------------------------\n",
      "# Sorted Feature Importance\n",
      "     0.40664 \t installment\n",
      "     0.31227 \t loan_amnt\n",
      "     0.07251 \t annual_inc\n",
      "     0.07236 \t dti\n",
      "     0.05231 \t inq_last_6mths\n",
      "     0.03898 \t total_acc\n",
      "     0.02694 \t open_acc\n",
      "     0.00964 \t delinq_2yrs\n",
      "     0.00835 \t pub_rec\n"
     ]
    },
    {
     "data": {
      "text/plain": [
       "[<matplotlib.text.Text at 0x116bc4160>, <matplotlib.text.Text at 0x116138b00>]"
      ]
     },
     "execution_count": 114,
     "metadata": {},
     "output_type": "execute_result"
    },
    {
     "data": {
      "image/png": "[encoded data removed]",
      "text/plain": [
       "<matplotlib.figure.Figure at 0x115b41160>"
      ]
     },
     "metadata": {},
     "output_type": "display_data"
    }
   ],
   "source": [
    "import operator\n",
    "\n",
    "print('='*50)\n",
    "print(model)\n",
    "\n",
    "feature_importance = dict()\n",
    "for i, f_imp in enumerate(model.feature_importances_):\n",
    "    feature_importance[cols[i]] = f_imp\n",
    "\n",
    "print('-'*50)\n",
    "print('# Sorted Feature Importance')\n",
    "feature_importance_sorted = sorted(feature_importance.items(), key=operator.itemgetter(1), reverse=True)\n",
    "for item in feature_importance_sorted:\n",
    "    print('{} {} \\t {}'.format(prefix, round(item[1],5), item[0]))\n",
    "\n",
    "# plot\n",
    "fimp = feature_importance_sorted\n",
    "plot_x = []; plot_y = []\n",
    "for item in fimp:\n",
    "    plot_x.append(item[0])\n",
    "    plot_y.append(item[1])\n",
    "\n",
    "#f, ax = plt.subplots(figsize=(20, 15))\n",
    "sns.barplot(plot_x,plot_y,alpha=0.5)\n",
    "ax.set_title('Feature Importance for Model : Decision Tree')\n",
    "ax.set(xlabel='Column Name', ylabel='Feature Importance')"
   ]
  },
  {
   "cell_type": "code",
   "execution_count": null,
   "metadata": {
    "collapsed": true
   },
   "outputs": [],
   "source": []
  }
 ],
 "metadata": {
  "kernelspec": {
   "display_name": "Python 3",
   "language": "python",
   "name": "python3"
  },
  "language_info": {
   "codemirror_mode": {
    "name": "ipython",
    "version": 3
   },
   "file_extension": ".py",
   "mimetype": "text/x-python",
   "name": "python",
   "nbconvert_exporter": "python",
   "pygments_lexer": "ipython3",
   "version": "3.5.2"
  }
 },
 "nbformat": 4,
 "nbformat_minor": 2
}
